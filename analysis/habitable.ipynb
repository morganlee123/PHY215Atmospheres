{
 "cells": [
  {
   "cell_type": "markdown",
   "metadata": {},
   "source": [
    "# Thoughts on the habitability of newly discovered exoplanets"
   ]
  },
  {
   "cell_type": "markdown",
   "metadata": {},
   "source": [
    "Morgan Sandler for the credit of PHY215 Project 2\n",
    "\n",
    "All figures and informational sources are cited in the references found at the bottom of this page\n",
    "\n",
    "## Preface\n",
    "\n",
    "Almost daily we read our news from space.com, nasa.gov, and other credible space news sources to hear about the large quantities of breakthrough discoveries about exoplanets. Recent developments in finding these planets from outside our solar system combined with our underlying interests to discover habitable places for the potential human colonization constantly keep us reading these articles. However, let us take a step back from the buzz words and better try to understand how we can deem a new discovery as a habitable option for our species.\n",
    "\n",
    "Our lives owe lots to planet Earth. Keeping us alive is not an easy feat. We require temperatures around $68^{\\circ}$F to keep us comfortable [2]. Also, air with a little oxygen mixed with a large amount of nitrogen (to prevent us from catching on fire) is necessary to keep us breathing. These further break down into the following factors: planetary distance from the host star (for temperature), atmospheric thickness, and atmospheric composition. With current technology we can approximately determine these conditions to a significant degree of accuracy, but is that the only prerequisite for our species to migrate? It turns out to be more complicated than that. Not only do we need to find a planet that has good climate and air, but we also need consistent sunlight as well. If the sun is down for too long, the food in which our species has domesticated over the past tens thousand years would be useless to grow. Supply would run low, distance to planet for resupply matters (not even mentioning how long that would take), and assumes if Earth is even around to resupply in the future. There are TONS of factors to recreate the environment we have here on Earth. To be fair, we have been working on building our ideal living conditions on Earth for seven million years. I mention all of this, not to dissuade our species from colonizing other planets, but to bring attention to the vast quantities of detail that we need to migrate our species.\n",
    "\n",
    "Though, I'd like to bring us back to the original point of this article, and narrow down to the basic factors for the physiological living of our species, and how we can see if they line up with potential colonization candidates.\n",
    "\n",
    "## Finding the Circumstellar Habitable Zone (CHZ)\n",
    "\n",
    "In this article, we will follow a small exoplanet: Gliese 581e.\n",
    "\n",
    "The Circumstellar Habitable Zone (CHZ) will provide a planet with most ideal living conditions for our species. This is a narrow band around a star which has the correct temperatures by maintaining a distance from the star. This is shown below in the case of the Gliese 581 system[9]\n",
    "\n",
    "![Circumstellar Habitable Zone Image](https://github.com/morganlee123/PHY215Atmospheres/raw/master/analysis/chz.jpg)\n",
    "\n",
    "We note that the mass of the star, and distance to that star shift where the planets lie on the axes. However, that is not the only factor involved. Planets move outwards/inwards from their host star and eventually will fall out of the CHZ. Time remaining in the CHZ is also a factor to consider. Given our own solar system and for Earth in particular, we only have about 1.75 billion years left in the CHZ [4].\n",
    "\n",
    "Using University of Washingtons CHZ Calculator [6], we can calculate the best distance from the following stars: \n",
    "\n",
    "**A planet with a $2\\times{M_{sun}}$ Host Star needs 5.56 AU distance from the sun to be habitable**\n",
    "\n",
    "**A planet with a $1.5\\times{M_{sun}}$ Host Star needs 3.01 AU distance from the sun to be habitable**\n",
    "\n",
    "**A planet with a $1\\times{M_{sun}}$ Host Star needs 1.17 AU distance from the sun to be habitable**\n",
    "\n",
    "**A planet with a $0.5\\times{M_{sun}}$ Host Star needs 0.27 AU distance from the sun to be habitable**\n",
    "\n",
    "where the length of the time left in the habitable zone increases significantly when the mass of the star drops. This leads to increased probability of evolving life the lower the mass of the host system star.\n",
    "\n",
    "In the Gliese 581 system, the host star is ${0.31M_{sun}}$[8]. We see the previous effect here, using exoplanet.eu database of exoplanets and filtering to this habitable range around $0.5{M_{sun}}$ stars:\n",
    "\n",
    "![.5Msunstars](https://github.com/morganlee123/PHY215Atmospheres/raw/master/analysis/exo.png)\n",
    "\n",
    "In yellow we highlight Gliese 581e from the aforementioned Gliese-581 System. This planet unfortunately just misses the habitable zone.\n",
    "\n",
    "## Spectrographic readings for atmospheric composition\n",
    "\n",
    "Spectrographs are invaluable to determining the composition of an exoplanet. Essentially the light reflecting from an exoplanet atmosphere is collected and studied at the wavelength in which is reflects. Different elements correspond to different wavelengths due to internal properties of the element in question. Below are highlighted examples of making that connection[7]:\n",
    "\n",
    "![spect](https://github.com/morganlee123/PHY215Atmospheres/raw/master/analysis/spect.jpg)\n",
    "\n",
    "The author of this figure marks quantites of water (h2o), methane (ch4), and carbon dioxide (co2). If you observe a wavelength that a compound likes to absorb, you can be sure that the wavelength reflected from other planets will be the same. This is the basis of exoplanet atmospheric studies. \n",
    "\n",
    "Studies on Gliese 581e (the yellow highlighted planet in the above figure) show that the planet falls slightly outside the habitable zone, given its distance to the sun. There is no current information on the atmosphere of the planet, but we can guess based on the distance from the host star. It does not likely have an atmosphere but suggestions from astrophysicists claim it may have a rocky surface similar to that of the Earth[8], and in billions of years may have its own atmosphere due to drifting into the habitable zone."
   ]
  },
  {
   "cell_type": "markdown",
   "metadata": {},
   "source": [
    "## References\n",
    "\n",
    "* 1) Wilford, John Noble. \"When Humans Became Human.\" The New York Times. February 26, 2002. Accessed April 29, 2021. https://www.nytimes.com/2002/02/26/science/when-humans-became-human.html.\n",
    "* 2) \"When Air Is the Same Temperature as Our Body, Why Do We Feel Hot?\" Scientific American. April 08, 2009. Accessed April 29, 2021. https://www.scientificamerican.com/article/why-people-feel-hot/.\n",
    "* 3) \"Histogram Plot → Diagrams: Scatter Plot.\" The Extrasolar Planets Encyclopaedia - Diagrams. Accessed April 29, 2021. http://exoplanet.eu/diagrams/.\n",
    "* 4) \"Earth's Days Are Numbered.\" Nature News. Accessed April 29, 2021. https://www.nature.com/news/earth-s-days-are-numbered-1.13788.\n",
    "* 5) UW Departments Web Server. Accessed April 29, 2021. http://depts.washington.edu/naivpl/sites/default/files/hzcalc.py.txt.\n",
    "* 6) UW Departments Web Server. Accessed April 29, 2021. http://depts.washington.edu/naivpl/sites/default/files/hz_0.shtml#overlay-context=content/hz-calculator.\n",
    "* 7) Seager, Sara. \"The Future of Spectroscopic Life Detection on Exoplanets.\" PNAS. September 02, 2014. Accessed April 29, 2021. https://www.pnas.org/content/111/35/12634.\n",
    "* 8) Robertson, Paul, Suvrath Mahadevan, Michael Endl, and Arpita Roy. \"Stellar Activity Masquerading as Planets in the Habitable Zone of the M Dwarf Gliese 581.\" ArXiv.org. July 03, 2014. Accessed April 29, 2021. https://arxiv.org/abs/1407.1049.\n",
    "* 9) \"Circumstellar Habitable Zone.\" Wikipedia. April 26, 2021. Accessed April 29, 2021. https://en.wikipedia.org/wiki/Circumstellar_habitable_zone."
   ]
  },
  {
   "cell_type": "code",
   "execution_count": null,
   "metadata": {},
   "outputs": [],
   "source": []
  }
 ],
 "metadata": {
  "kernelspec": {
   "display_name": "Python 3",
   "language": "python",
   "name": "python3"
  },
  "language_info": {
   "codemirror_mode": {
    "name": "ipython",
    "version": 3
   },
   "file_extension": ".py",
   "mimetype": "text/x-python",
   "name": "python",
   "nbconvert_exporter": "python",
   "pygments_lexer": "ipython3",
   "version": "3.7.7"
  }
 },
 "nbformat": 4,
 "nbformat_minor": 4
}
