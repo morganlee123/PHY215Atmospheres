{
 "cells": [
  {
   "cell_type": "markdown",
   "metadata": {},
   "source": [
    "# Computational Fluid Dynamics to study social distancing recommendations by the CDC\n",
    "\n",
    "Article written by Morgan Sandler for Honors credit in PHY215 at MSU"
   ]
  },
  {
   "cell_type": "markdown",
   "metadata": {},
   "source": [
    "Since the beginning of the pandemic start last year in 2020, we have constantly listening to recommendations by the CDC and WHO of a 6 foot social distance rule. Why 6 feet? You may be asking yourself, and that is a great question which the answer is unclear. The WHO used to constantly recommend three feet [1]. This comes from a Harvard researcher William Wells that studied tuberculosis. He found that phlem, bits of spit, droplets, etc. did not appear to land farther than three feet of where emitted. The problem with this is that he observed heavier particles. These \"droplets\" by today's standard are massive. Airborne droplets can be less than 5 microns in diameter [1]. Six feet is a precaution to double the distance recommended by Wells. This is purely based on speculation of the trajectory of these particles after they are expelled from the mouth. Dbouk and Drikakis attempt to bring computational fluid dynamics into the mix to shed light on the true social distancing number required for all particles to safely dissipate.\n",
    "\n",
    "To properly model the spreading of small particles we need the following information[2]:\n",
    "\n",
    "1. The saliva droplet's initial size distribution at the onset of the coughing event\n",
    "2. The human mouth-print of the cough\n",
    "3. The period of the cough and its intensity\n",
    "4. The numerical modeling to allow for heat/mass transfer considerations\n",
    "\n",
    "## Finding droplet initial size distribution\n",
    "\n",
    "Dbouk and Drikikas model the initial size of a droplet via the Weibull distribution. A distribution very convenient for modeling the sizes of cloud droplets, to include water and water-like droplets. The weibull's law of probability density function f comes from[2]:\n",
    "\n",
    "![weibull](https://github.com/morganlee123/PHY215Atmospheres/raw/master/analysis/weibull.png)\n",
    "\n",
    "where $d_p$ is the droplet diameter. This density function[2] gives the following distribution of saliva droplet diameter as comapred to Xie et al. 2009, an experimental study on saliva droplet sizes.\n",
    "\n",
    "![densitysize.png](https://github.com/morganlee123/PHY215Atmospheres/raw/master/analysis/densitysize.png)\n",
    "\n",
    "\n",
    "## Finding the human cough mouth-print and period\n",
    "\n",
    "The space from which a human emits these particles is crucial to understanding the quantity of droplets in question to model.\n",
    "\n",
    "Dbouk and Drikikas approximate this by using a high-speed camera experiment along with a cough and compute a hexahedral mesh encapsulating that region. This is shown in the following figure[2] where they deduce $L_m$, the rectangular sheet-like mouth print cross section as observed over time.\n",
    "\n",
    "![Mouth print](https://github.com/morganlee123/PHY215Atmospheres/raw/master/analysis/mouthprint.png)\n",
    "\n",
    "From many of these experiments recorded in [2]Dbouk and Drikikas's work, the period of the cough is defined, and now the mathematical modeling of the particles is all that's left to run the experiment.\n",
    "\n",
    "\n",
    "## Fluid Dynamics Modeling\n",
    "\n",
    "The overarching modeling is done by the Navier-Stokes equations. One of these functions: the Cauchy momentum equation[3] in its convective form is useful for modeling a particle. \n",
    "\n",
    "![cuach.png](https://github.com/morganlee123/PHY215Atmospheres/raw/master/analysis/cauch.png)\n",
    "\n",
    "If no deviatoric stress is found on a fluid ($\\tau = 0$), then it is reduced to the Euler equations. Assuming the conservation of mass we can use the mass continuity equation[3]:\n",
    "\n",
    "![conserved](https://github.com/morganlee123/PHY215Atmospheres/raw/master/analysis/conserved.png)\n",
    "\n",
    "\n",
    "Using these equations along with calculating mass and enthalphy change in the droplet, the position of the particle can be derived[2]. OpenFOAM provides this information after an experiment is ran.\n",
    "\n",
    "## Results of the computational fluid dynamic experiment\n",
    "\n",
    "Testing with multiple epochs of experimentation via OpenFOAM, a free open-source computational fluid dynamic modeling software, it took Dbouk and Drikikas 1.5 days to generate trajectories[2].\n",
    "\n",
    "With no wind acting on the particles, it is found that the droplets all fall within 2 m (6 ft) of a person. This is the assumption made for indoor social distancing guidelines. The below figure demonstrates these findings[2]:\n",
    "\n",
    "![socialdistancing](https://github.com/morganlee123/PHY215Atmospheres/raw/master/analysis/socialdistancing.png)\n",
    "\n",
    "However, with any sort of draft/wind effect on the system, this recommendation greatly changes. As shown in the below figure[2], the 6 ft guideline is simply not enough distance with speculations that 27 ft [1] may be a better guideline. \n",
    "\n",
    "![scary](https://github.com/morganlee123/PHY215Atmospheres/raw/master/analysis/scary.png)\n",
    "\n",
    "For the sake of our society, the simplification to 6 ft should suffice to indoor environments, but if there are air drafts within buildings (e.g A/C, internal airflow), the risk of community spread may be significantly higher. Purification systems for buildings are one of the proposed solutions to this effect, but those will require lots of research and funding to build effective, complete products.\n",
    "\n",
    "So for the time being until herd immunity is achieved for the COVID-19 virus, the simplest solution: a mask would suffice :)\n"
   ]
  },
  {
   "cell_type": "markdown",
   "metadata": {},
   "source": [
    "## References\n",
    "\n",
    "1. Foley, Katherine Ellen. \"Where Does the Six-foot Guideline for Social Distancing Come From?\" Quartz. Accessed May 04, 2021. https://qz.com/1831100/where-does-the-six-feet-social-distancing-guideline-come-from/.\n",
    "2. Dbouk, Talib, and Dimitris Drikakis. \"On Coughing and Airborne Droplet Transmission to Humans.\" Physics of Fluids 32, no. 5 (2020): 053310. doi:10.1063/5.0011960.\n",
    "3. \"Navier–Stokes Equations.\" Wikipedia. April 30, 2021. Accessed May 04, 2021. https://en.wikipedia.org/wiki/Navier–Stokes_equations#Compressible_flow."
   ]
  },
  {
   "cell_type": "code",
   "execution_count": null,
   "metadata": {},
   "outputs": [],
   "source": []
  }
 ],
 "metadata": {
  "kernelspec": {
   "display_name": "Python 3",
   "language": "python",
   "name": "python3"
  },
  "language_info": {
   "codemirror_mode": {
    "name": "ipython",
    "version": 3
   },
   "file_extension": ".py",
   "mimetype": "text/x-python",
   "name": "python",
   "nbconvert_exporter": "python",
   "pygments_lexer": "ipython3",
   "version": "3.7.7"
  }
 },
 "nbformat": 4,
 "nbformat_minor": 4
}
