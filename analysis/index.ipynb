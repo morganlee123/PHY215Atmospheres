{
 "cells": [
  {
   "cell_type": "markdown",
   "metadata": {},
   "source": [
    "# Planetary Atmosphere Exploration Project\n",
    "\n",
    "**author:** Morgan Sandler<br>\n",
    "**date:** March 12, 2021\n",
    "\n",
    "![Earth](https://images.immediate.co.uk/production/volatile/sites/4/2018/08/fe-iStock_000043516100_Full_EDIT-6c720fe.jpg?quality=90&resize=630%2C268) <br>"
   ]
  },
  {
   "cell_type": "markdown",
   "metadata": {},
   "source": [
    "## Project overview\n",
    "\n",
    "\n",
    "Can life exist on other planets? This is the question that drives new discoveries in Exoplanets. Exoplanets are discovered planets which are not in our own solar system. Planets that orbit other stars. To determine whether a planet is compatible to our own human biological system, we must first determine what it is that keeps us alive here on Earth. Our atmosphere is full of Nitrogen and Oxygen, and the ratio at which they coexist keeps us breathing and comfortable. For us to inhabit another planet, it must have a similar atmosphere to our own. This has led to my interest in researching exoplanet atmospheres.\n",
    "\tThere are many mathematical models to represent an atmosphere. Crafting these models usually involves understanding some historic information about that planet’s creation and development. Also, spectrographic readings from telescopes and spacecraft gives us insight to planet composition. From this information, we assume conditions which serve as constants and variables in the mathematical equations. Systems of equations form more complex models which conglomerate into descriptions of a planet’s atmosphere. From these models, we can better study planets to either determine their habitability, or to serve as insight to other properties the planet may hold. Below are three listed applications of atmospheric mathematical modeling. Click on each link to learn more about how we use atmospheric modeling to drive new discoveries!\n",
    "\n",
    "## Applications of atmospheric mathematical modeling\n",
    "\n",
    "1. Weather forecasting simulations via dynamic equations\n",
    "2. Spectrographic readings for determining habitability of other planets\n",
    "3. Climate modeling to learn more about our impact on planet Earth\n"
   ]
  }
 ],
 "metadata": {
  "kernelspec": {
   "display_name": "Python 3",
   "language": "python",
   "name": "python3"
  },
  "language_info": {
   "codemirror_mode": {
    "name": "ipython",
    "version": 3
   },
   "file_extension": ".py",
   "mimetype": "text/x-python",
   "name": "python",
   "nbconvert_exporter": "python",
   "pygments_lexer": "ipython3",
   "version": "3.7.7"
  }
 },
 "nbformat": 4,
 "nbformat_minor": 2
}
