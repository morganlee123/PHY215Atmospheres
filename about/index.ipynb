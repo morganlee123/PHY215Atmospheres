{
 "cells": [
  {
   "cell_type": "markdown",
   "metadata": {},
   "source": [
    "# About\n",
    "\n",
    "**authors:** Morgan Sandler<br>"
   ]
  },
  {
   "cell_type": "markdown",
   "metadata": {},
   "source": [
    "## Why I started this project\n",
    "\n",
    "I have always been interested in the weather. Weather determines if the plane that will take me to vacation in Florida will actually be able to take off. It also determines whether I will be able to see the beautiful Michigan capital building down the street from me. Weather plays a critical role in all our lives, whether we realize it or not. It is this reason I got interested in atmospheric physics. The atmosphere, the thin layer of gases which keeps us alive, plays a crucial role in determining the weather of the surface of a planet. Climate and weather create spawning grounds for life: a critical factor in habitability as well. Modeling the atmosphere gives us the ability to predict future conditions that allow us to make the most educated decisions to plan our life. For example, for work on Monday I would not be caught without a coat if the weather forecast mentions it is supposed to snow five inches. This also means that I may even need to work from home to avoid potential car accidents that might result from the hazardous conditions outdoors. The ability to computationally predict the future from current information interests me, and as a computer science student, I have made it my project to explore into computational atmospheric modeling. I hope to present information on this web page to help you all learn with me!\n",
    "\n",
    "I hope you enjoy reading these modules as much as I did preparing it!\n",
    "\n",
    "**Morgan Sandler**\n"
   ]
  },
  {
   "cell_type": "code",
   "execution_count": null,
   "metadata": {},
   "outputs": [],
   "source": []
  }
 ],
 "metadata": {
  "kernelspec": {
   "display_name": "Python 3",
   "language": "python",
   "name": "python3"
  },
  "language_info": {
   "codemirror_mode": {
    "name": "ipython",
    "version": 3
   },
   "file_extension": ".py",
   "mimetype": "text/x-python",
   "name": "python",
   "nbconvert_exporter": "python",
   "pygments_lexer": "ipython3",
   "version": "3.7.7"
  }
 },
 "nbformat": 4,
 "nbformat_minor": 2
}
