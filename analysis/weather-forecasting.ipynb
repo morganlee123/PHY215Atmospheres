{
 "cells": [
  {
   "cell_type": "markdown",
   "metadata": {},
   "source": [
    "# The Future Physics of Weather Forecasting"
   ]
  },
  {
   "cell_type": "markdown",
   "metadata": {},
   "source": [
    "Weather forecasting we take for granted on the daily. We are used to the ability to reference any device for the latest information that will save us time. It lets us know whether to wear a jacket or not outside. We plan trips around weather. Weather decides if an event will be indoors or outdoors. The National Meteorological Center/National Centers for Environmental Prediction has been developing a program since the early 50s which they refer to as the Global Forecasting System or GFS. Since its initial release, there have been many increments of development. The most recent iteration uses a module called FV3 which stands for: the Finite Volume Model on the Cubed Sphere Grid Version 3. The increase in performance given by the FV3 extension can be seen in the following figure from weather.gov [1]\n",
    "\n",
    "![Weather gov figure](https://raw.githubusercontent.com/morganlee123/PHY215Atmospheres/master/analysis/fv3.png)"
   ]
  },
  {
   "cell_type": "markdown",
   "metadata": {},
   "source": [
    "The performance gains from the FV3 module stem from its staggered wind interpolation, updated condensate loading, and mass conservation equations. Staggered wind interpolation means the vector containing wind direction and velocity only is calculated after the physics returns its tendencies, then couples this information together to dynamically solve for the trajectory.\n",
    "\n",
    "The total mass of dry air and water categories is solved for by dynamical equations. This incoprorates the effect of condensate loading into the air mass without a special paramerization for loading. [2]\n",
    "\n",
    "The dry air mass (per unit area) can be given as:\n",
    "\n",
    "$\\delta{m_d}$ refers to the dry mass change in an air mass. $\\delta{p^{*}}$ is the water category mass. N is the precise number of water species used in the simulation (e.g Vapors). Aerosols and ozone are negligible in this system as they are very small [2]\n",
    "\n",
    "![dryweight.png](https://raw.githubusercontent.com/morganlee123/PHY215Atmospheres/master/analysis/dryweight.png) \n",
    "\n",
    "where $Q_m = \\delta{p^{*}q_{m}}$ is the tracer mass.\n",
    "\n",
    "Since dry mass should be conserved by the physical parametrizations [2], $\\delta{m_d}$ should be a constant in each grid cell for prediction. This gives a condition for dry mass conservation as [2]:\n",
    "\n",
    "![dryconservation](https://raw.githubusercontent.com/morganlee123/PHY215Atmospheres/master/analysis/dryconservation.png)\n",
    "\n",
    "where $\\Delta{M} = 1 + \\delta{\\tau}\\sum{m=1}{N}\\frac{dq_{i}}{dt}$. The physics package from GFS returns a rate of change in tracer mass $dQ_m/dt$ and is independent of whether the total air mass or dry air mass is solved with. This updates through this following equation[2]:\n",
    "\n",
    "![tracerupdate](https://raw.githubusercontent.com/morganlee123/PHY215Atmospheres/master/analysis/tracerupdate.png)\n",
    "\n",
    "This finally gives an algorithm for mass conservation[2]:\n",
    "\n",
    "![Mass conservation algorithm](https://raw.githubusercontent.com/morganlee123/PHY215Atmospheres/master/analysis/mca.png)"
   ]
  },
  {
   "cell_type": "markdown",
   "metadata": {},
   "source": [
    "Understanding the conservation of dry and wet air mass helps us better understand cold and warm fronts. Cold fronts typically bring precipitation where warm fronts bring more pleasant weather. Fronts are developed by the positioning of dry and wet air mass. The heated wet air mass rises and creates clouds which cause precipitation. This results in a cold front, and consequently gloomy days. Warm fronts are given by the opposite effect. Designing systems with conservation of air masses allows us to make more accurate physics simulations of weather, and better weather predictions means your family vacation will not be mysteriously rained out :-)"
   ]
  },
  {
   "cell_type": "markdown",
   "metadata": {},
   "source": [
    "## References\n",
    "\n",
    "* 1) https://www.noaa.gov/sites/default/files/atoms/files/DOCUMENT%20-%20Global%20forecast%20system%20fact%20sheet.pdf\n",
    "* 2) https://www.gfdl.noaa.gov/fv3/fv3-documentation-and-references/\n",
    "* 3) https://www.gfdl.noaa.gov/wp-content/uploads/2020/02/FV3-Technical-Description.pdf\n",
    "* 4) https://www.google.com/url?sa=t&rct=j&q=&esrc=s&source=web&cd=&ved=2ahUKEwiBl4TU6rDvAhXRWc0KHXqRBf4QFjAEegQIChAD&url=https%3A%2F%2Fams.confex.com%2Fams%2F2019Annual%2Fwebprogram%2FManuscript%2FPaper350196%2Ftechnotegfsh.pdf&usg=AOvVaw0diOX_BtNp68UoOg16lLcR\n"
   ]
  },
  {
   "cell_type": "code",
   "execution_count": null,
   "metadata": {},
   "outputs": [],
   "source": []
  }
 ],
 "metadata": {
  "kernelspec": {
   "display_name": "Python 3",
   "language": "python",
   "name": "python3"
  },
  "language_info": {
   "codemirror_mode": {
    "name": "ipython",
    "version": 3
   },
   "file_extension": ".py",
   "mimetype": "text/x-python",
   "name": "python",
   "nbconvert_exporter": "python",
   "pygments_lexer": "ipython3",
   "version": "3.7.7"
  }
 },
 "nbformat": 4,
 "nbformat_minor": 4
}
